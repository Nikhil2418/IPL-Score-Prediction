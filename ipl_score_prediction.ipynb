{
 "cells": [
  {
   "cell_type": "markdown",
   "metadata": {},
   "source": [
    "# IPL Score Prediction\n",
    "Predicting final IPL match scores based on current match situation"
   ]
  },
  {
   "cell_type": "code",
   "execution_count": null,
   "metadata": {},
   "outputs": [],
   "source": [
    "import pandas as pd\n",
    "import numpy as np\n",
    "import pickle\n",
    "from sklearn.model_selection import train_test_split\n",
    "from sklearn.ensemble import RandomForestRegressor, GradientBoostingRegressor\n",
    "from sklearn.linear_model import LinearRegression\n",
    "from sklearn.metrics import mean_absolute_error, r2_score\n",
    "import warnings\n",
    "warnings.filterwarnings('ignore')"
   ]
  },
  {
   "cell_type": "code",
   "execution_count": null,
   "metadata": {},
   "outputs": [],
   "source": "# Load dataset\ndf = pd.read_csv('Dataset/ipl.csv')\nprint(f\"Dataset shape: {df.shape}\")\ndf.head()"
  },
  {
   "cell_type": "code",
   "execution_count": null,
   "metadata": {},
   "outputs": [],
   "source": [
    "# Data preprocessing\n",
    "df.info()"
   ]
  },
  {
   "cell_type": "code",
   "execution_count": null,
   "metadata": {},
   "outputs": [],
   "source": [
    "# Feature engineering\n",
    "# Select relevant features for prediction\n",
    "features = ['runs', 'wickets', 'overs', 'runs_last_5', 'wickets_last_5']\n",
    "target = 'total'\n",
    "\n",
    "# Check if all columns exist\n",
    "available_features = [col for col in features if col in df.columns]\n",
    "print(f\"Available features: {available_features}\")\n",
    "\n",
    "if target not in df.columns:\n",
    "    print(f\"Error: Target column '{target}' not found\")\n",
    "    print(f\"Available columns: {df.columns.tolist()}\")"
   ]
  },
  {
   "cell_type": "code",
   "execution_count": null,
   "metadata": {},
   "outputs": [],
   "source": [
    "# Prepare data\n",
    "X = df[available_features]\n",
    "y = df[target]\n",
    "\n",
    "# Split data\n",
    "X_train, X_test, y_train, y_test = train_test_split(X, y, test_size=0.2, random_state=42)\n",
    "print(f\"Training set: {X_train.shape}, Test set: {X_test.shape}\")"
   ]
  },
  {
   "cell_type": "code",
   "execution_count": null,
   "metadata": {},
   "outputs": [],
   "source": [
    "# Train models\n",
    "models = {\n",
    "    'Linear Regression': LinearRegression(),\n",
    "    'Random Forest': RandomForestRegressor(n_estimators=100, random_state=42),\n",
    "    'Gradient Boosting': GradientBoostingRegressor(n_estimators=100, random_state=42)\n",
    "}\n",
    "\n",
    "results = {}\n",
    "for name, model in models.items():\n",
    "    model.fit(X_train, y_train)\n",
    "    y_pred = model.predict(X_test)\n",
    "    mae = mean_absolute_error(y_test, y_pred)\n",
    "    r2 = r2_score(y_test, y_pred)\n",
    "    results[name] = {'model': model, 'mae': mae, 'r2': r2}\n",
    "    print(f\"{name} - MAE: {mae:.2f}, R2: {r2:.4f}\")"
   ]
  },
  {
   "cell_type": "code",
   "execution_count": null,
   "metadata": {},
   "outputs": [],
   "source": [
    "# Select best model\n",
    "best_model_name = min(results, key=lambda x: results[x]['mae'])\n",
    "best_model = results[best_model_name]['model']\n",
    "print(f\"\\nBest Model: {best_model_name}\")\n",
    "print(f\"MAE: {results[best_model_name]['mae']:.2f}\")\n",
    "print(f\"R2 Score: {results[best_model_name]['r2']:.4f}\")"
   ]
  },
  {
   "cell_type": "code",
   "execution_count": null,
   "metadata": {},
   "outputs": [],
   "source": [
    "# Save models\n",
    "with open('best_model.pkl', 'wb') as f:\n",
    "    pickle.dump(best_model, f)\n",
    "\n",
    "with open('linear_regression_model.pkl', 'wb') as f:\n",
    "    pickle.dump(results['Linear Regression']['model'], f)\n",
    "\n",
    "print(\"Models saved successfully!\")"
   ]
  },
  {
   "cell_type": "code",
   "execution_count": null,
   "metadata": {},
   "outputs": [],
   "source": [
    "# Prediction function with validation\n",
    "def predict_score(current_runs, wickets, overs, runs_last_5, wickets_last_5, model=best_model):\n",
    "    \"\"\"\n",
    "    Predict final score ensuring it's always >= current score\n",
    "    \n",
    "    Parameters:\n",
    "    - current_runs: Current runs scored\n",
    "    - wickets: Wickets fallen\n",
    "    - overs: Overs completed\n",
    "    - runs_last_5: Runs scored in last 5 overs\n",
    "    - wickets_last_5: Wickets fallen in last 5 overs\n",
    "    - model: Trained model for prediction\n",
    "    \n",
    "    Returns:\n",
    "    - Predicted final score (always >= current_runs)\n",
    "    \"\"\"\n",
    "    # Create input dataframe\n",
    "    input_data = pd.DataFrame([[\n",
    "        current_runs, wickets, overs, runs_last_5, wickets_last_5\n",
    "    ]], columns=available_features)\n",
    "    \n",
    "    # Get prediction\n",
    "    predicted_score = model.predict(input_data)[0]\n",
    "    \n",
    "    # CRITICAL FIX: Ensure predicted score is always >= current score\n",
    "    # If prediction is less than current runs, use current runs as minimum\n",
    "    final_prediction = max(predicted_score, current_runs)\n",
    "    \n",
    "    return round(final_prediction)\n",
    "\n",
    "print(\"Prediction function defined with validation!\")"
   ]
  },
  {
   "cell_type": "code",
   "execution_count": null,
   "metadata": {},
   "outputs": [],
   "source": [
    "# Test predictions\n",
    "print(\"\\n=== Test Predictions ===\")\n",
    "print(\"\\nScenario 1: Early innings (5 overs)\")\n",
    "current_score = 45\n",
    "prediction = predict_score(current_runs=45, wickets=1, overs=5.0, runs_last_5=45, wickets_last_5=1)\n",
    "print(f\"Current Score: {current_score}\")\n",
    "print(f\"Predicted Final Score: {prediction}\")\n",
    "print(f\"Valid: {prediction >= current_score}\")\n",
    "\n",
    "print(\"\\nScenario 2: Middle innings (10 overs)\")\n",
    "current_score = 95\n",
    "prediction = predict_score(current_runs=95, wickets=2, overs=10.0, runs_last_5=50, wickets_last_5=1)\n",
    "print(f\"Current Score: {current_score}\")\n",
    "print(f\"Predicted Final Score: {prediction}\")\n",
    "print(f\"Valid: {prediction >= current_score}\")\n",
    "\n",
    "print(\"\\nScenario 3: Late innings (15 overs)\")\n",
    "current_score = 150\n",
    "prediction = predict_score(current_runs=150, wickets=4, overs=15.0, runs_last_5=55, wickets_last_5=2)\n",
    "print(f\"Current Score: {current_score}\")\n",
    "print(f\"Predicted Final Score: {prediction}\")\n",
    "print(f\"Valid: {prediction >= current_score}\")\n",
    "\n",
    "print(\"\\nScenario 4: Very late innings (18 overs)\")\n",
    "current_score = 175\n",
    "prediction = predict_score(current_runs=175, wickets=6, overs=18.0, runs_last_5=40, wickets_last_5=3)\n",
    "print(f\"Current Score: {current_score}\")\n",
    "print(f\"Predicted Final Score: {prediction}\")\n",
    "print(f\"Valid: {prediction >= current_score}\")"
   ]
  },
  {
   "cell_type": "code",
   "execution_count": null,
   "metadata": {},
   "outputs": [],
   "source": [
    "# Interactive prediction\n",
    "def make_prediction():\n",
    "    print(\"\\n=== IPL Score Predictor ===\")\n",
    "    current_runs = float(input(\"Enter current runs: \"))\n",
    "    wickets = int(input(\"Enter wickets fallen: \"))\n",
    "    overs = float(input(\"Enter overs completed: \"))\n",
    "    runs_last_5 = float(input(\"Enter runs in last 5 overs: \"))\n",
    "    wickets_last_5 = int(input(\"Enter wickets in last 5 overs: \"))\n",
    "    \n",
    "    predicted = predict_score(current_runs, wickets, overs, runs_last_5, wickets_last_5)\n",
    "    \n",
    "    print(f\"\\n{'='*50}\")\n",
    "    print(f\"Current Score: {int(current_runs)}/{wickets} in {overs} overs\")\n",
    "    print(f\"Predicted Final Score: {predicted}\")\n",
    "    print(f\"Expected Additional Runs: {predicted - int(current_runs)}\")\n",
    "    print(f\"{'='*50}\")\n",
    "    \n",
    "    # Validation check\n",
    "    if predicted < current_runs:\n",
    "        print(\"\\n⚠️  WARNING: Model predicted less than current score!\")\n",
    "        print(\"This has been corrected to current score.\")\n",
    "    \n",
    "    return predicted\n",
    "\n",
    "# Uncomment below to use interactive prediction\n",
    "# make_prediction()"
   ]
  }
 ],
 "metadata": {
  "kernelspec": {
   "display_name": "Python 3",
   "language": "python",
   "name": "python3"
  },
  "language_info": {
   "codemirror_mode": {
    "name": "ipython",
    "version": 3
   },
   "file_extension": ".py",
   "mimetype": "text/x-python",
   "name": "python",
   "nbconvert_exporter": "python",
   "pygments_lexer": "ipython3",
   "version": "3.8.0"
  }
 },
 "nbformat": 4,
 "nbformat_minor": 4
}